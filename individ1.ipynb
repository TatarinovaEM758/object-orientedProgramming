{
  "nbformat": 4,
  "nbformat_minor": 0,
  "metadata": {
    "colab": {
      "provenance": [],
      "authorship_tag": "ABX9TyOQ1bn1nz7XcCyCE7mVW8Eo",
      "include_colab_link": true
    },
    "kernelspec": {
      "name": "python3",
      "display_name": "Python 3"
    },
    "language_info": {
      "name": "python"
    }
  },
  "cells": [
    {
      "cell_type": "markdown",
      "metadata": {
        "id": "view-in-github",
        "colab_type": "text"
      },
      "source": [
        "<a href=\"https://colab.research.google.com/github/TatarinovaEM758/object-orientedProgramming/blob/main/individ1.ipynb\" target=\"_parent\"><img src=\"https://colab.research.google.com/assets/colab-badge.svg\" alt=\"Open In Colab\"/></a>"
      ]
    },
    {
      "cell_type": "code",
      "execution_count": 42,
      "metadata": {
        "id": "_Q8P_7zf9zmH"
      },
      "outputs": [],
      "source": [
        "class Track:\n",
        "  def __init__(self, track, duration):\n",
        "    self.track = track\n",
        "    self.duration = duration\n",
        "  \n",
        "  def show(self):\n",
        "    print(f'<{self.track} - {self.duration}>')\n",
        "\n",
        "class Album:\n",
        "  def __init__(self, name, gr):\n",
        "    self.namealbum = name\n",
        "    self.group = gr\n",
        "    self.sp = []\n",
        "    self.durat = 0\n",
        "    self.num = 1\n",
        "\n",
        "  def add_track(self, track, duration):\n",
        "    self.sp.append(f'<{track} - {duration}>')\n",
        "    self.durat += duration\n",
        "\n",
        "  def get_track(self):\n",
        "    print(f'Список треков в альбоме `{self.namealbum}` от {self.group}')\n",
        "    for i in self.sp:\n",
        "      print(i)\n",
        "\n",
        "  def get_duration(self):\n",
        "    print(f'Общая длительность: {self.durat}')\n"
      ]
    },
    {
      "cell_type": "code",
      "source": [
        "if __name__ == '__main__':\n",
        "  \n",
        "  # первый альбом\n",
        "  t1 = Track('Needy', 3)\n",
        "  t2 = Track('NASA', 4)\n",
        "  t3 = Track('imagine', 3)\n",
        "\n",
        "  name1 = input(\"Введите название альбома: \")\n",
        "  singer1 = input(\"Введите имя исполнителя: \")\n",
        "  a1 = Album(name1, singer1)\n",
        "  a1.add_track(t1.track, t1.duration)\n",
        "  a1.add_track(t2.track, t2.duration)\n",
        "  a1.add_track(t3.track, t3.duration)\n",
        "\n",
        "  a1.get_track()\n",
        "  a1.get_duration()\n",
        "\n",
        "  # второй альбом\n",
        "  t4 = Track('off the table', 4)\n",
        "  t5 = Track('nasty', 4)\n",
        "  t6 = Track('love language', 3)\n",
        "\n",
        "  name2 = input(\"Введите название альбома: \")\n",
        "  singer2 = input(\"Введите имя исполнителя: \")\n",
        "  a2 = Album(name2, singer2)\n",
        "  a2.add_track(t4.track, t4.duration)\n",
        "  a2.add_track(t5.track, t5.duration)\n",
        "  a2.add_track(t6.track, t6.duration)\n",
        "\n",
        "  a2.get_track()\n",
        "  a2.get_duration()"
      ],
      "metadata": {
        "colab": {
          "base_uri": "https://localhost:8080/"
        },
        "id": "YZexq64LIRm9",
        "outputId": "c6fcb611-4e7e-4f53-ac29-c52b1caa719b"
      },
      "execution_count": 44,
      "outputs": [
        {
          "output_type": "stream",
          "name": "stdout",
          "text": [
            "Введите название альбома: thank you next\n",
            "Введите имя исполнителя: ariana grande\n",
            "Список треков в альбоме `thank you next` от ariana grande\n",
            "<Needy - 3>\n",
            "<NASA - 4>\n",
            "<imagine - 3>\n",
            "Общая длительность: 10\n",
            "Введите название альбома: position\n",
            "Введите имя исполнителя: ariana grande\n",
            "Список треков в альбоме `position` от ariana grande\n",
            "<off the table - 4>\n",
            "<nasty - 4>\n",
            "<love language - 3>\n",
            "Общая длительность: 11\n"
          ]
        }
      ]
    }
  ]
}