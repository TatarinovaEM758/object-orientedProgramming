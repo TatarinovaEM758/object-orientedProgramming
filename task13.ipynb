{
  "nbformat": 4,
  "nbformat_minor": 0,
  "metadata": {
    "colab": {
      "provenance": [],
      "authorship_tag": "ABX9TyN1aH/f/BL9eHE5Vw22nzkL",
      "include_colab_link": true
    },
    "kernelspec": {
      "name": "python3",
      "display_name": "Python 3"
    },
    "language_info": {
      "name": "python"
    }
  },
  "cells": [
    {
      "cell_type": "markdown",
      "metadata": {
        "id": "view-in-github",
        "colab_type": "text"
      },
      "source": [
        "<a href=\"https://colab.research.google.com/github/TatarinovaEM758/object-orientedProgramming/blob/main/task13.ipynb\" target=\"_parent\"><img src=\"https://colab.research.google.com/assets/colab-badge.svg\" alt=\"Open In Colab\"/></a>"
      ]
    },
    {
      "cell_type": "markdown",
      "source": [
        "1.3.1 Создайте для класса «студент» функцию, которая считает средний\n",
        "балл по трем дисциплинам, оценки по которым вводятся пользователям.\n",
        "Реализуйте программу двумя способами: без использования\n",
        "конструктора __ __init__  __и с ним. \n"
      ],
      "metadata": {
        "id": "TUMcUi1g-wXA"
      }
    },
    {
      "cell_type": "code",
      "execution_count": 33,
      "metadata": {
        "colab": {
          "base_uri": "https://localhost:8080/"
        },
        "id": "IDbwE2a4-ndd",
        "outputId": "d184d096-34a9-487e-adbf-f03760a01233"
      },
      "outputs": [
        {
          "output_type": "stream",
          "name": "stdout",
          "text": [
            " Введите название первой дисциплины: математика\n",
            " Введите название второй дисциплины: история\n",
            " Введите название третьей дисциплины: программирование\n",
            "Введите оценку по математика дисциплине: 5\n",
            "Введите оценку по история дисциплине: 4\n",
            "Введите оценку по программирование дисциплине: 5\n",
            "4.67\n"
          ]
        }
      ],
      "source": [
        "class Student:\n",
        "  def __init__(self, dis1,dis2, dis3):\n",
        "    self.dis1 = dis1\n",
        "    self.dis2 = dis2\n",
        "    self.dis3 = dis3\n",
        "\n",
        "  def srball(self):\n",
        "    return print(round(((self.dis1 + self.dis2 + self.dis3) / 3), 2))\n",
        "\n",
        "try:\n",
        "  d1 = input(\" Введите название первой дисциплины: \")\n",
        "  d2 = input(\" Введите название второй дисциплины: \")\n",
        "  d3 = input(\" Введите название третьей дисциплины: \")\n",
        "  mark1 = int(input(\"Введите оценку по {} дисциплине: \".format(d1)))\n",
        "  mark2 = int(input(\"Введите оценку по {} дисциплине: \".format(d2)))\n",
        "  mark3 = int(input(\"Введите оценку по {} дисциплине: \".format(d3)))\n",
        "  Mark = Student(mark1, mark2, mark3)\n",
        "  Mark.srball()\n",
        "except ValueError:\n",
        "  print('Ошибка. Оценка должна быть числом')"
      ]
    },
    {
      "cell_type": "code",
      "source": [
        "class Student:\n",
        "  dis1 = 0\n",
        "  dis2 = 0\n",
        "  dis3 = 0\n",
        "  def ball(self):\n",
        "    return print(round(((self.dis1 + self.dis2 + self.dis3) / 3), 2))    \n",
        "\n",
        "\n",
        "b = Student()\n",
        "mark1 = int(input(\"Введите оценку по первой дисциплине: \"))\n",
        "mark2 = int(input(\"Введите оценку по второй дисциплине: \"))\n",
        "mark3 = int(input(\"Введите оценку по третьей дисциплине: \"))\n",
        "b.dis1 = mark1\n",
        "b.dis2 = mark2\n",
        "b.dis3 = mark3\n",
        "\n",
        "b.ball()"
      ],
      "metadata": {
        "colab": {
          "base_uri": "https://localhost:8080/"
        },
        "id": "nUjWbD1Plh5f",
        "outputId": "dd892424-7239-453a-e5d7-34774f8a7893"
      },
      "execution_count": null,
      "outputs": [
        {
          "output_type": "stream",
          "name": "stdout",
          "text": [
            "Введите оценку по первой дисциплине: 5\n",
            "Введите оценку по второй дисциплине: 4\n",
            "Введите оценку по третьей дисциплине: 5\n",
            "4.67\n"
          ]
        }
      ]
    },
    {
      "cell_type": "markdown",
      "source": [
        "1.3.2 Создайте функцию, которая считает и выводит в файл заработную\n",
        "плату сотрудника склада в зависимости от количества отработанных дней в\n",
        "месяце. Оклад является защищаемым атрибутом класса «сотрудник». \n"
      ],
      "metadata": {
        "id": "bYrBCWcY-xzY"
      }
    },
    {
      "cell_type": "code",
      "source": [
        "class Costumer:\n",
        "  def __init__(self, o, w, d):\n",
        "    self._oklad = o\n",
        "    self.workdays = w\n",
        "    self.days = d\n",
        "  \n",
        "  def Sal(self):\n",
        "    self.salar = round(self._oklad / self.days * self.workdays, 2)\n",
        "    a = open('salary_1_3_2', 'w')\n",
        "    a.write('Зарплата = ' + str(self.salar) + '\\n')\n",
        "    a.close()\n",
        "    print('Файл сохранен')\n",
        "    return self.salar\n",
        "\n",
        "\n",
        "o = int(input(\"Введите оклад: \"))\n",
        "w = int(input(\"Введите количество отработанных дней: \"))\n",
        "d = int(input(\"Введите количества рабочих дней: \"))\n",
        "salary = Costumer(o, w, d)\n",
        "salary.Sal()"
      ],
      "metadata": {
        "colab": {
          "base_uri": "https://localhost:8080/"
        },
        "id": "NkpQlsf9pNnY",
        "outputId": "eff70e33-0323-4f20-e7bd-b1354fe12e35"
      },
      "execution_count": 26,
      "outputs": [
        {
          "output_type": "stream",
          "name": "stdout",
          "text": [
            "Введите оклад: 25000\n",
            "Введите количество отработанных дней: 23\n",
            "Введите количества рабочих дней: 25\n",
            "Файл сохранен\n"
          ]
        },
        {
          "output_type": "execute_result",
          "data": {
            "text/plain": [
              "23000.0"
            ]
          },
          "metadata": {},
          "execution_count": 26
        }
      ]
    },
    {
      "cell_type": "markdown",
      "source": [
        "1.3.3 Используя результат предыдущего задания, создайте функцию\n",
        "начисления премии сотруднику, вычисляемую как 1% от уровня заработной\n",
        "платы. \n"
      ],
      "metadata": {
        "id": "JrdHTZSA-0ae"
      }
    },
    {
      "cell_type": "code",
      "source": [
        "class Costumer:\n",
        "  def __init__(self, o, w, d):\n",
        "    self._oklad = o\n",
        "    self.workdays = w\n",
        "    self.days = d\n",
        "  \n",
        "  def Sal(self):\n",
        "    self.salar = round(self._oklad / self.days * self.workdays, 2)\n",
        "    a = open('salary_1_3_2', 'w')\n",
        "    a.write('Зарплата = ' + str(self.salar) + '\\n')\n",
        "    a.close()\n",
        "    print('Файл сохранен')\n",
        "    return print(self.salar)\n",
        "\n",
        "  def bonus(self):\n",
        "    self.bon = self.salar * 0.01\n",
        "    a = open('salary_1_3_2', 'w')\n",
        "    a.write('Зарплата + премия = ' + str(self.bon + self.salar) + '\\n')\n",
        "    a.close()\n",
        "    print('Файл сохранен')\n",
        "    return print(self.salar + self.bon)\n",
        "    \n",
        "\n",
        "\n",
        "o = int(input(\"Введите оклад: \"))\n",
        "w = int(input(\"Введите количество отработанных дней: \"))\n",
        "d = int(input(\"Введите количества рабочих дней: \"))\n",
        "salary = Costumer(o, w, d)\n",
        "salary.Sal()\n",
        "salary.bonus()"
      ],
      "metadata": {
        "colab": {
          "base_uri": "https://localhost:8080/"
        },
        "id": "ZDAgsekf-0JJ",
        "outputId": "8370802c-76b1-4b03-8a60-e83680c532c0"
      },
      "execution_count": 34,
      "outputs": [
        {
          "output_type": "stream",
          "name": "stdout",
          "text": [
            "Введите оклад: 25000\n",
            "Введите количество отработанных дней: 23\n",
            "Введите количества рабочих дней: 25\n",
            "Файл сохранен\n",
            "23000.0\n",
            "Файл сохранен\n",
            "23230.0\n"
          ]
        }
      ]
    },
    {
      "cell_type": "markdown",
      "source": [
        "1.3.4 Модифицируйте предыдущую программу, позволяющую вычислять\n",
        "заработную плату, премию для сотрудников и определять величину общего\n",
        "фонда заработной платы как сумму заработной платы и премий, деленную на\n",
        "коэффициент 0,7. Данные о сотрудниках вводятся через цикл while и\n",
        "записываются в соответствующий файл .txt или .xlsx. \n"
      ],
      "metadata": {
        "id": "fYBwx1fG-2qW"
      }
    },
    {
      "cell_type": "code",
      "source": [
        "class Costumer:\n",
        "  r = 0\n",
        "  def __init__(self, o, w, d):\n",
        "    self._oklad = int(input(\"Введите оклад: \"))\n",
        "    self.workdays = int(input(\"Введите количество отработанных дней: \"))\n",
        "    self.days = int(input(\"Введите количества рабочих дней: \"))\n",
        "  \n",
        "  def Sal(self): # вычисляет зарплату \n",
        "    self.salar = round(self._oklad / self.days * self.workdays, 2)\n",
        "    a = open('salary_1_3_2', 'w')\n",
        "    a.write('Зарплата = ' + str(self.salar) + '\\n')\n",
        "    a.close()\n",
        "    print('Файл сохранен')\n",
        "    return self.salar\n",
        "\n",
        "  def bonus(self): # вычисляет премию + зарплату\n",
        "    self.bon = self.salar * 0.01\n",
        "    a = open('salary_1_3_2', 'w')\n",
        "    a.write('Зарплата + премия = ' + str(self.bon + self.salar) + '\\n')\n",
        "    a.close()\n",
        "    print('Файл сохранен')\n",
        "    self.salarbon = self.salar + self.bon\n",
        "    return self.salarbon\n",
        "\n",
        "  def __del__(self):\n",
        "    print(\" Procces deleted \")"
      ],
      "metadata": {
        "id": "eJ1dLmSHRajU"
      },
      "execution_count": 62,
      "outputs": []
    },
    {
      "cell_type": "code",
      "source": [
        "q = int(input(\"Введите количество сотрудников: \"))\n",
        "x = 0\n",
        "open('salary_fonds', 'w')\n",
        "while x < q:\n",
        "    x = x + 1\n",
        "    print(\"Введите данные для {} сотрудника: \".format(x))\n",
        "    f = Costumer(o = 0, w = 0, d = 0)\n",
        "    a = f.Sal()\n",
        "    r = f.bonus()\n",
        "    l = open('salary_fonds', 'a')\n",
        "    l.write(str(r) + '\\n')\n",
        "    l.close()\n",
        "    del f\n",
        "\n",
        "def salary_f(filename):\n",
        "    resource = open(filename, 'r')\n",
        "    a = resource.read()\n",
        "    open(filename).read().split('\\n')\n",
        "\n",
        "    result = []\n",
        "    with open(filename) as f:\n",
        "        for line in f:\n",
        "            result.append([float(x) for x in line.split()])\n",
        "\n",
        "    res1 = []\n",
        "    for x in result:\n",
        "        for y in x:\n",
        "            res1.append(y)\n",
        "    sum_salary = sum(res1)\n",
        "\n",
        "    listing = open('salary_fonds', 'a')\n",
        "    listing.write('sum_salary = ' + str(sum_salary) + '\\n')\n",
        "    listing.close()\n",
        "    return sum_salary\n",
        "\n",
        "test = salary_f('salary_fonds')\n",
        "\n",
        "print('sum_salary = ', test)"
      ],
      "metadata": {
        "colab": {
          "base_uri": "https://localhost:8080/"
        },
        "id": "T60IMMwUv1ld",
        "outputId": "19900623-a889-45cc-ddeb-caf3c9a5cc23"
      },
      "execution_count": 63,
      "outputs": [
        {
          "output_type": "stream",
          "name": "stdout",
          "text": [
            "Введите количество сотрудников: 3\n",
            "Введите данные для 1 сотрудника: \n",
            "Введите оклад: 25000\n",
            "Введите количество отработанных дней: 23\n",
            "Введите количества рабочих дней: 25\n",
            "Файл сохранен\n",
            "Файл сохранен\n",
            " Procces deleted \n",
            "Введите данные для 2 сотрудника: \n",
            "Введите оклад: 25000\n",
            "Введите количество отработанных дней: 22\n",
            "Введите количества рабочих дней: 25\n",
            "Файл сохранен\n",
            "Файл сохранен\n",
            " Procces deleted \n",
            "Введите данные для 3 сотрудника: \n",
            "Введите оклад: 25000\n",
            "Введите количество отработанных дней: 24\n",
            "Введите количества рабочих дней: 25\n",
            "Файл сохранен\n",
            "Файл сохранен\n",
            " Procces deleted \n",
            "sum_salary =  69690.0\n"
          ]
        }
      ]
    },
    {
      "cell_type": "markdown",
      "source": [
        "1.3.5 Используя технологию перегрузки операторов, измените\n",
        "__ truediv __(деление) так, чтобы числителем был знаменатель и наоборот.\n",
        "Аналогичные процедуры осуществите для операторов\n",
        "__ floordiv __(целочисленное деление), __ mod __(остаток от деления). Числа\n",
        "вводят пользователи. Предусмотрите отработку исключений. \n"
      ],
      "metadata": {
        "id": "lauid6Mp-6WN"
      }
    },
    {
      "cell_type": "code",
      "source": [
        "class Test:\n",
        "  def __init__(self, a):\n",
        "    self.num = float(a)\n",
        "\n",
        "  def __truediv__(self, b):\n",
        "    return b / self.num\n",
        "\n",
        "  def __floordiv__(self, c):\n",
        "    return float(c // self.num)\n",
        "\n",
        "  def __mod__(self, z):\n",
        "    return float(z % self.num)\n",
        "\n",
        "\n",
        "try:\n",
        "  a = int(input('Введите 1 число: '))\n",
        "  b = int(input('Введите 2 число: '))\n",
        "  m = Test(a)\n",
        "  print(m / b)\n",
        "  print(m // b)\n",
        "  print(m % b)\n",
        "except ValueError:\n",
        "  print(\"Ошибка. Введите целочисленное число\")"
      ],
      "metadata": {
        "colab": {
          "base_uri": "https://localhost:8080/"
        },
        "id": "yz61XrF9Shhc",
        "outputId": "b27e75e0-2e2f-47de-f598-f98d8545a21d"
      },
      "execution_count": 65,
      "outputs": [
        {
          "output_type": "stream",
          "name": "stdout",
          "text": [
            "Введите 1 число: 8\n",
            "Введите 2 число: 10\n",
            "1.25\n",
            "1.0\n",
            "2.0\n"
          ]
        }
      ]
    }
  ]
}