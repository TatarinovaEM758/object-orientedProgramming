{
  "nbformat": 4,
  "nbformat_minor": 0,
  "metadata": {
    "colab": {
      "provenance": [],
      "authorship_tag": "ABX9TyM5NN8uaqErGza85X5BHKGT",
      "include_colab_link": true
    },
    "kernelspec": {
      "name": "python3",
      "display_name": "Python 3"
    },
    "language_info": {
      "name": "python"
    }
  },
  "cells": [
    {
      "cell_type": "markdown",
      "metadata": {
        "id": "view-in-github",
        "colab_type": "text"
      },
      "source": [
        "<a href=\"https://colab.research.google.com/github/TatarinovaEM758/object-orientedProgramming/blob/main/lecture1.ipynb\" target=\"_parent\"><img src=\"https://colab.research.google.com/assets/colab-badge.svg\" alt=\"Open In Colab\"/></a>"
      ]
    },
    {
      "cell_type": "markdown",
      "source": [
        "python - объектно ориентированный язык программирования\n",
        "\n",
        "классы - тип описывающих устройство объектов\n",
        "\n",
        "(свойства и методы, тем будет интереснее наш класс(существо))\n",
        "\n",
        "объект - элементы классов"
      ],
      "metadata": {
        "id": "HWLBZeruVcMT"
      }
    },
    {
      "cell_type": "code",
      "execution_count": null,
      "metadata": {
        "colab": {
          "base_uri": "https://localhost:8080/"
        },
        "id": "JzzJKEiAQC7l",
        "outputId": "3012a549-639a-41e8-eaba-1e81932bca92"
      },
      "outputs": [
        {
          "output_type": "stream",
          "name": "stdout",
          "text": [
            "15\n"
          ]
        }
      ],
      "source": [
        "class A: # наш объект, шаблон\n",
        "  x = 15\n",
        "  def print_x(self): # свойство один\n",
        "    print(self.x)\n",
        "  \n",
        "  def sum(self, a, b):\n",
        "    return self.x + a + b # свойство два\n",
        "\n",
        "a = A() # экземпляр класса, есть есть наделяя а классом, который уже выполнил уже свойства, можно создаваться сколько угодно\n",
        "a.print_x()\n",
        "b = a.sum(5, 2) # b  не выводится тк ему это не сказали\n",
        "# класс = шаблон\n"
      ]
    },
    {
      "cell_type": "code",
      "source": [
        "class A:\n",
        "  def hello():\n",
        "    print('Hello, world!')\n",
        "\n",
        "# self нужно для того чтобы экземпляр тоже мог воспользоваться свойствами класса, то есть без него не будут получать свойства класса\n",
        "\n",
        "a = A()\n",
        "A.hello()"
      ],
      "metadata": {
        "colab": {
          "base_uri": "https://localhost:8080/"
        },
        "id": "BnrwM1JQYki9",
        "outputId": "e339df20-fc44-429a-b21f-d209576c909e"
      },
      "execution_count": null,
      "outputs": [
        {
          "output_type": "stream",
          "name": "stdout",
          "text": [
            "Hello, world!\n"
          ]
        }
      ]
    },
    {
      "cell_type": "code",
      "source": [
        "class A:\n",
        "  def __init__(self, x): # должен обязательно один аргумент\n",
        "    self.x = x\n",
        "    print('Hello!')\n",
        "  \n",
        "  def __del__(self):\n",
        "    print('good bye!')\n",
        "\n",
        "a = A() # нет аргумента=> не выполнится\n",
        "a = A(15)\n",
        "a.x\n"
      ],
      "metadata": {
        "colab": {
          "base_uri": "https://localhost:8080/",
          "height": 252
        },
        "id": "qUGOF3eOZmTv",
        "outputId": "4bb64d59-8b34-447a-d8cc-790533a7096a"
      },
      "execution_count": null,
      "outputs": [
        {
          "output_type": "stream",
          "name": "stdout",
          "text": [
            "good bye!\n"
          ]
        },
        {
          "output_type": "error",
          "ename": "TypeError",
          "evalue": "ignored",
          "traceback": [
            "\u001b[0;31m---------------------------------------------------------------------------\u001b[0m",
            "\u001b[0;31mTypeError\u001b[0m                                 Traceback (most recent call last)",
            "\u001b[0;32m<ipython-input-8-c1ab487a4c92>\u001b[0m in \u001b[0;36m<module>\u001b[0;34m\u001b[0m\n\u001b[1;32m      7\u001b[0m     \u001b[0mprint\u001b[0m\u001b[0;34m(\u001b[0m\u001b[0;34m'good bye!'\u001b[0m\u001b[0;34m)\u001b[0m\u001b[0;34m\u001b[0m\u001b[0;34m\u001b[0m\u001b[0m\n\u001b[1;32m      8\u001b[0m \u001b[0;34m\u001b[0m\u001b[0m\n\u001b[0;32m----> 9\u001b[0;31m \u001b[0ma\u001b[0m \u001b[0;34m=\u001b[0m \u001b[0mA\u001b[0m\u001b[0;34m(\u001b[0m\u001b[0;34m)\u001b[0m \u001b[0;31m# нет аргумента=> не выполнится\u001b[0m\u001b[0;34m\u001b[0m\u001b[0;34m\u001b[0m\u001b[0m\n\u001b[0m\u001b[1;32m     10\u001b[0m \u001b[0ma\u001b[0m \u001b[0;34m=\u001b[0m \u001b[0mA\u001b[0m\u001b[0;34m(\u001b[0m\u001b[0;36m15\u001b[0m\u001b[0;34m)\u001b[0m\u001b[0;34m\u001b[0m\u001b[0;34m\u001b[0m\u001b[0m\n\u001b[1;32m     11\u001b[0m \u001b[0ma\u001b[0m\u001b[0;34m.\u001b[0m\u001b[0mx\u001b[0m\u001b[0;34m\u001b[0m\u001b[0;34m\u001b[0m\u001b[0m\n",
            "\u001b[0;31mTypeError\u001b[0m: __init__() missing 1 required positional argument: 'x'"
          ]
        }
      ]
    },
    {
      "cell_type": "code",
      "source": [
        "class A:\n",
        "  def __init__(self):\n",
        "    print(\"hello!\")\n",
        "  def __del__(self):\n",
        "    print('good bye!')\n",
        "\n",
        "def create_obj():\n",
        "  a = A()\n",
        "  return A\n",
        "if __name__ == \"__main__\":  # точка входа\n",
        "  a = create_obj()\n",
        "  print('Program end')\n",
        "  exit(0)"
      ],
      "metadata": {
        "colab": {
          "base_uri": "https://localhost:8080/"
        },
        "id": "t-n_EFsvaOhp",
        "outputId": "2c3d7c5f-6a88-4341-f133-aae272b231d5"
      },
      "execution_count": null,
      "outputs": [
        {
          "output_type": "stream",
          "name": "stdout",
          "text": [
            "hello!\n",
            "good bye!\n",
            "Program end\n"
          ]
        }
      ]
    },
    {
      "cell_type": "code",
      "source": [
        "class A:\n",
        "  def __init__(self, bb):\n",
        "    self.b = bb\n",
        "\n",
        "class B:\n",
        "  def __init__(self):\n",
        "    self.a = A(self)\n",
        "  def __del__(self):\n",
        "    print('bye!')\n",
        "\n",
        "def fun():\n",
        "  b = B()\n",
        "  print('fun end')\n",
        "\n",
        "fun()\n",
        "print('programm end')"
      ],
      "metadata": {
        "colab": {
          "base_uri": "https://localhost:8080/"
        },
        "id": "z2Ot0gB8bAyU",
        "outputId": "1d4c98d3-11c0-4834-e5ed-1f3dc81954c6"
      },
      "execution_count": null,
      "outputs": [
        {
          "output_type": "stream",
          "name": "stdout",
          "text": [
            "fun end\n",
            "programm end\n",
            "bye!\n"
          ]
        }
      ]
    },
    {
      "cell_type": "code",
      "source": [
        "class Bus:\n",
        "  def __init__(self, passangers=[]):\n",
        "    self.passangers = passangers\n",
        "  def pick(self, name):\n",
        "    self.passangers.append(name)\n",
        "  def drop(self, name):\n",
        "    self.passangers.remove(name)\n",
        "\n",
        "bus1 = Bus(['Alice', 'Bill'])\n",
        "bus1.passangers\n",
        "bus1.pick('Charlie')\n",
        "bus1.drop('Alice')\n",
        "bus1.passangers"
      ],
      "metadata": {
        "colab": {
          "base_uri": "https://localhost:8080/"
        },
        "id": "4igmtSRBcC0t",
        "outputId": "df66a399-b6d8-4828-ad50-2aebfa6d9e90"
      },
      "execution_count": null,
      "outputs": [
        {
          "output_type": "execute_result",
          "data": {
            "text/plain": [
              "['Bill', 'Charlie']"
            ]
          },
          "metadata": {},
          "execution_count": 4
        }
      ]
    },
    {
      "cell_type": "code",
      "source": [
        "bus2 = Bus()\n",
        "bus2.pick('Charlie')\n",
        "bus2.passangers"
      ],
      "metadata": {
        "colab": {
          "base_uri": "https://localhost:8080/"
        },
        "id": "WkQSPBoYdXAE",
        "outputId": "609a805d-b76b-4098-82a2-8d604833c082"
      },
      "execution_count": null,
      "outputs": [
        {
          "output_type": "execute_result",
          "data": {
            "text/plain": [
              "['Charlie', 'Charlie']"
            ]
          },
          "metadata": {},
          "execution_count": 6
        }
      ]
    },
    {
      "cell_type": "code",
      "source": [
        "bus3 = Bus()\n",
        "bus3.passangers\n",
        "bus2.passangers is bus3.passangers\n",
        "bus1.passangers"
      ],
      "metadata": {
        "colab": {
          "base_uri": "https://localhost:8080/"
        },
        "id": "XSrnzpp3diyO",
        "outputId": "17d17ecf-c222-4213-e537-261520043c1f"
      },
      "execution_count": null,
      "outputs": [
        {
          "output_type": "execute_result",
          "data": {
            "text/plain": [
              "['Bill', 'Charlie']"
            ]
          },
          "metadata": {},
          "execution_count": 7
        }
      ]
    },
    {
      "cell_type": "code",
      "source": [
        "class Bus:\n",
        "  def __init__(self, passengers=None):\n",
        "    if passengers is None:\n",
        "      self.passengers = []\n",
        "    else:\n",
        "      self.passengers = passengers"
      ],
      "metadata": {
        "id": "rKUEOUTtd_Vj"
      },
      "execution_count": null,
      "outputs": []
    },
    {
      "cell_type": "code",
      "source": [
        "class A:\n",
        "  x = 10\n",
        "  _x = 1 # закрытая переменная\n",
        "  def __init__(self):\n",
        "    self.y = 5\n",
        "    z = 1\n",
        "a = A()\n",
        "print(a.x)\n",
        "print(a.y)\n",
        "#print(a.z) error, тк нет z\n",
        "print(a._x)\n",
        "print(A.x)\n",
        "#print(A.y) "
      ],
      "metadata": {
        "colab": {
          "base_uri": "https://localhost:8080/"
        },
        "id": "OudTis3heanq",
        "outputId": "55028114-aa67-4f9c-fda2-9576397e74d6"
      },
      "execution_count": null,
      "outputs": [
        {
          "output_type": "stream",
          "name": "stdout",
          "text": [
            "10\n",
            "5\n",
            "1\n",
            "10\n"
          ]
        }
      ]
    },
    {
      "cell_type": "code",
      "source": [
        "class A:\n",
        "  x = 10\n",
        "\n",
        "a = A()\n",
        "b= A()\n",
        "a.x\n",
        "b.x\n",
        "A.x\n",
        "\n",
        "a.x = 4\n",
        "a.x\n",
        "b.x\n",
        "A.x"
      ],
      "metadata": {
        "colab": {
          "base_uri": "https://localhost:8080/"
        },
        "id": "DjbjaSgyfx6E",
        "outputId": "10152fce-4b84-4b88-dfa3-0bb81f0c4e97"
      },
      "execution_count": null,
      "outputs": [
        {
          "output_type": "execute_result",
          "data": {
            "text/plain": [
              "10"
            ]
          },
          "metadata": {},
          "execution_count": 14
        }
      ]
    },
    {
      "cell_type": "code",
      "source": [],
      "metadata": {
        "id": "LIn3k4CMgdHz"
      },
      "execution_count": null,
      "outputs": []
    }
  ]
}