{
  "nbformat": 4,
  "nbformat_minor": 0,
  "metadata": {
    "colab": {
      "provenance": [],
      "authorship_tag": "ABX9TyMQWCNi3MPtHH/v1GHe3pjR",
      "include_colab_link": true
    },
    "kernelspec": {
      "name": "python3",
      "display_name": "Python 3"
    },
    "language_info": {
      "name": "python"
    }
  },
  "cells": [
    {
      "cell_type": "markdown",
      "metadata": {
        "id": "view-in-github",
        "colab_type": "text"
      },
      "source": [
        "<a href=\"https://colab.research.google.com/github/TatarinovaEM758/object-orientedProgramming/blob/main/num12.ipynb\" target=\"_parent\"><img src=\"https://colab.research.google.com/assets/colab-badge.svg\" alt=\"Open In Colab\"/></a>"
      ]
    },
    {
      "cell_type": "markdown",
      "source": [
        "##1.2.1 \n",
        "\n",
        "Создание новых экземпляров объектов класса может быть отличным\n",
        "способом отслеживания значений с помощью атрибутов, связанных с\n",
        "объектом. Значения этих атрибутов можно легко изменить на уровне объекта.\n",
        "Следующий код иллюстрирует знаменитую цитату Джорджа Бернарда Шоу,\n",
        "в которой объекты используются для представления людей. Заполните\n",
        "пробелы, чтобы код соответствовал поведению, описанному в цитате ниже "
      ],
      "metadata": {
        "id": "jucoKvjYP4ci"
      }
    },
    {
      "cell_type": "code",
      "execution_count": 7,
      "metadata": {
        "colab": {
          "base_uri": "https://localhost:8080/"
        },
        "id": "aNUxse2nMxZN",
        "outputId": "d3d369b2-68cd-44cf-fec0-2dd39838da65"
      },
      "outputs": [
        {
          "output_type": "stream",
          "name": "stdout",
          "text": [
            "Johanna has 2 apples and Martin has 1 apples\n",
            "Johanna has 2 ideas and Martin has 2 ideas\n"
          ]
        }
      ],
      "source": [
        "# “Если у тебя есть яблоко, а у меня есть яблоко, и мы\n",
        "# обменяемся этими яблоками, тогда\n",
        "# у нас с тобой по-прежнему будет по одному яблоку. Но если у\n",
        "# вас есть идея, а у меня есть\n",
        "# идея, и мы обмениваемся этими идеями, тогда у каждого из нас\n",
        "# будет по две идеи”.\n",
        "# Джордж Бернард Шоу\n",
        "class Person:\n",
        "  apples = 0\n",
        "  ideas = 0\n",
        "\n",
        "johanna = Person()\n",
        "johanna.apples = 1\n",
        "johanna.ideas = 1\n",
        "martin = Person()\n",
        "martin.apples = 2\n",
        "martin.ideas = 1\n",
        "\n",
        "def exchange_apples(you, me):\n",
        "# Здесь, несмотря на цитату Дж.Б. Шоу, наши персонажи начали с разного количества яблок, чтобы лучше понять результат.\n",
        "# Мы собираемся попросить Мартина и Джоанну обменяться ВСЕМИ своими яблоками друг с другом.\n",
        "  advanced = you.apples\n",
        "  you.apples = me.apples\n",
        "  me.apples = advanced\n",
        "  return you.apples, me.apples\n",
        "def exchange_ideas(you, me):\n",
        "# \"ты\" и \"я\" обменяемся своими идеями друг с другом.\n",
        "#Какие операции необходимо выполнить, чтобы каждый объект получал общее количество идей?\n",
        "#Подсказка: как бы вы распределили общее количество идей по атрибут каждой идеи?\n",
        "# Вам нужна временная переменная для хранения суммы идей, или вы можете найти другой способ?\n",
        "#Используйте здесь столько строк кода, сколько вам нужно.\n",
        "  advanced = you.ideas\n",
        "  you.ideas += me.ideas\n",
        "  me.ideas += advanced\n",
        "  return you.ideas, me.ideas\n",
        "\n",
        "exchange_apples(johanna, martin)\n",
        "print(\"Johanna has {} apples and Martin has {} apples\".format(johanna.apples, martin.apples))\n",
        "exchange_ideas(johanna, martin)\n",
        "print(\"Johanna has {} ideas and Martin has {} ideas\".format(johanna.ideas, martin.ideas)) "
      ]
    },
    {
      "cell_type": "markdown",
      "source": [
        "##1.2.2  \n",
        " Класс City имеет следующие атрибуты: имя, страна (где расположен город),\n",
        "высота (измеряется в метрах) и население (приблизительно, согласно недавней\n",
        "статистике). Заполните пробелы в функции max_elevation_city, чтобы вернуть\n",
        "название города и его страну (разделенные запятой) при сравнении трех\n",
        "определенных экземпляров для указанной минимальной численности населения.\n",
        "Например, вызов функции для минимального населения в 1 миллион:\n",
        "max_elevation_city (1000000) должен вернуть «София, Болгария». \n"
      ],
      "metadata": {
        "id": "mHFWnEP5P-Jg"
      }
    },
    {
      "cell_type": "code",
      "source": [
        "class City:\n",
        "  name = \"\"\n",
        "  country = \"\"\n",
        "  elevation = 0\n",
        "  population = 0\n",
        "# создайте новый экземпляр класса City и\n",
        "# определите каждый атрибут\n",
        "city1 = City()\n",
        "city1.name = \"Cusco\"\n",
        "city1.country = \"Peru\"\n",
        "city1.elevation = 3399\n",
        "city1.population = 358052\n",
        "# создайте новый экземпляр класса City и\n",
        "# определите каждый атрибут\n",
        "city2 = City()\n",
        "city2.name = \"Sofia\"\n",
        "city2.country = \"Bulgaria\"\n",
        "city2.elevation = 2290\n",
        "city2.population = 1241675\n",
        "# создайте новый экземпляр класса City и\n",
        "# определите каждый атрибут\n",
        "city3 = City()\n",
        "city3.name = \"Seoul\"\n",
        "city3.country = \"South Korea\"\n",
        "city3.elevation = 38\n",
        "city3.population = 9733509\n",
        "def max_elevation_city(min_population):\n",
        "   # Инициализируйте переменную, которая будет содержать\n",
        "  # информация о городе с\n",
        "  # самой высокой возвышенностью\n",
        "  return_city = City()\n",
        "  return_city.population = min_population\n",
        " # Оцените 1-й экземпляр на соответствие требованиям:\n",
        " # есть ли в городе #1 хотя бы минимальное население и\n",
        "# является ли его возвышенность самой высокой из оцененных на данный момент?\n",
        "  if (city1.population >= min_population):\n",
        "    return_city = city1\n",
        "# Оцените 2-й экземпляр на соответствие требованиям:\n",
        "# есть ли в городе #2 хотя бы минимальное население и\n",
        "# является ли его возвышенность самой высокой из оцененных на данный момент?\n",
        "  if (city2.population >= min_population) and (city2.elevation > return_city.elevation):\n",
        "    return_city = city2\n",
        "# Оцените 3-й экземпляр на соответствие требованиям:\n",
        "# есть ли в городе 3 хотя бы минимальное население и\n",
        "# является ли его возвышенность самой высокой из оцененных на данный момент?\n",
        "  if (city3.population >= min_population)  and (city3.elevation > return_city.elevation):\n",
        "    return_city = city3\n",
        " #Форматирование возвращаемой строки\n",
        "  if return_city.name:\n",
        "    return f'{return_city.name}, {return_city.country}'\n",
        "  else:\n",
        "    return 'Nope'\n",
        "\n",
        "\n",
        "print(max_elevation_city(100000))\n",
        "# Вывод на экран \"Cusco, Peru\"\n",
        "print(max_elevation_city(1000000))\n",
        "# Вывод на экран \"Sofia, Bulgaria\"\n",
        "print(max_elevation_city(10000000))\n",
        "# Вывод на экран \"\" \n"
      ],
      "metadata": {
        "colab": {
          "base_uri": "https://localhost:8080/"
        },
        "id": "myziOifpMqWl",
        "outputId": "b738b716-c644-4779-d626-7658f3106801"
      },
      "execution_count": 11,
      "outputs": [
        {
          "output_type": "stream",
          "name": "stdout",
          "text": [
            "Cusco, Peru\n",
            "Sofia, Bulgaria\n",
            "Nope. There is nothing.\n"
          ]
        }
      ]
    },
    {
      "cell_type": "markdown",
      "source": [
        "## 1.2.3 \n",
        "\n",
        "У нас есть два предмета мебели: коричневый деревянный стол и красный\n",
        "кожаный диван. Заполните пустые поля после создания каждого\n",
        "экземпляра класса Furniture, чтобы функция describe_furniture могла\n",
        "отформатировать предложение, описывающее эти элементы, следующим\n",
        "образом: «Этот предмет мебели изготовлен из {color} {material}». "
      ],
      "metadata": {
        "id": "yixkmnloUpoS"
      }
    },
    {
      "cell_type": "code",
      "source": [
        "class Furniture:\n",
        "  color = \"\"\n",
        "  material = \"\"\n",
        "\n",
        "table = Furniture()\n",
        "table.color = \"коричневого\"\n",
        "table.material = \"дерева\"\n",
        "\n",
        "couch = Furniture()\n",
        "couch.color = \"красной\"\n",
        "couch.material = \"кожи\"\n",
        "\n",
        "def describe_furniture(piece):\n",
        " return (\"Этот предмет мебели изготовлен из {} {}\".format(piece.color, piece.material))\n",
        "\n",
        "\n",
        "print(describe_furniture(table))\n",
        "# Вывод на экран \" Этот предмет мебели сделан из коричневого дерева \"\n",
        "print(describe_furniture(couch))\n",
        "# Вывод на экран \" Этот предмет мебели сделан из красной кожи \" "
      ],
      "metadata": {
        "colab": {
          "base_uri": "https://localhost:8080/"
        },
        "id": "-bptFcsbU3Em",
        "outputId": "2d423507-67bd-4141-ee46-af223cf00b1a"
      },
      "execution_count": 1,
      "outputs": [
        {
          "output_type": "stream",
          "name": "stdout",
          "text": [
            "Этот предмет мебели изготовлен из коричневого дерева\n",
            "Этот предмет мебели изготовлен из красной кожи\n"
          ]
        }
      ]
    }
  ]
}