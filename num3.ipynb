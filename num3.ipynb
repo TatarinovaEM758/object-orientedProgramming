{
  "nbformat": 4,
  "nbformat_minor": 0,
  "metadata": {
    "colab": {
      "provenance": [],
      "authorship_tag": "ABX9TyPn274ANhYLxQfnwDFO6yPL",
      "include_colab_link": true
    },
    "kernelspec": {
      "name": "python3",
      "display_name": "Python 3"
    },
    "language_info": {
      "name": "python"
    }
  },
  "cells": [
    {
      "cell_type": "markdown",
      "metadata": {
        "id": "view-in-github",
        "colab_type": "text"
      },
      "source": [
        "<a href=\"https://colab.research.google.com/github/TatarinovaEM758/object-orientedProgramming/blob/main/num3.ipynb\" target=\"_parent\"><img src=\"https://colab.research.google.com/assets/colab-badge.svg\" alt=\"Open In Colab\"/></a>"
      ]
    },
    {
      "cell_type": "markdown",
      "source": [
        "Вариант №18\n",
        "\n",
        "\n",
        "Описать класс, представляющий квадратное уравнение вида ах2\n",
        " +bх + с = 0.\n",
        " \n",
        "  Описать метод, вычисляющий решение этого уравнения и выбрасывающий\n",
        "исключение в случае отсутствия корней. Описать свойства для получения\n",
        "состояния объекта.\n",
        "\n",
        "Написать программу, демонстрирующую все разработанные элементы\n",
        "класса. \n"
      ],
      "metadata": {
        "id": "wQvL1qjKsQCJ"
      }
    },
    {
      "cell_type": "code",
      "source": [
        "class Equation:\n",
        "  def __init__(self, a, b, c):\n",
        "    self.a = a\n",
        "    self.b = b\n",
        "    self.c = c\n",
        "  def decision(self):\n",
        "    disc = b ** 2 - 4 * a * c\n",
        "    print(\"Дискриминант = \", disc)\n",
        "    if disc > 0:\n",
        "      x1 = (-b + disc ** 0.5) / (2 * a)\n",
        "      x2 = (-b - disc ** 0.5) / (2 * a)\n",
        "      return print(\"x1 = {}, x2 = {}\".format(x1, x2))\n",
        "    elif disc == 0:\n",
        "      x = -b / (2 * a)\n",
        "      return print(\"x = \", x)\n",
        "    else:\n",
        "      raise ValueError"
      ],
      "metadata": {
        "id": "k4YK_C5FsPzX"
      },
      "execution_count": 3,
      "outputs": []
    },
    {
      "cell_type": "code",
      "execution_count": 6,
      "metadata": {
        "colab": {
          "base_uri": "https://localhost:8080/"
        },
        "id": "zJV2KfhZsOqf",
        "outputId": "491878a5-e564-46c4-c893-245a633f167b"
      },
      "outputs": [
        {
          "output_type": "stream",
          "name": "stdout",
          "text": [
            "Давайте решим квадратное уравнение вида : ax2 + bx + c = 0\n",
            "Для этого вам нужно ввести значения a, b и c :\n",
            "Введите значение а = 1\n",
            "Введите значение b = -4\n",
            "Введите значение c = 3\n",
            "1*x2 + -4*x + 3 = 0\n",
            "Дискриминант =  4\n",
            "x1 = 3.0, x2 = 1.0\n"
          ]
        }
      ],
      "source": [
        "try:\n",
        "  print(\"Давайте решим квадратное уравнение вида : ax2 + bx + c = 0\")\n",
        "  print(\"Для этого вам нужно ввести значения a, b и c :\")\n",
        "  a = int(input(\"Введите значение а = \"))\n",
        "  b = int(input(\"Введите значение b = \"))\n",
        "  c = int(input(\"Введите значение c = \"))\n",
        "  print(\"{}*x2 + {}*x + {} = 0\".format(a, b, c))\n",
        "  Dec = Equation(a, b, c)\n",
        "  Dec.decision()\n",
        "except ValueError:\n",
        "  print(\"Это уравнение не имеет корней\")\n",
        "except TypeError:\n",
        "  print(\"Введите целые значения! Это же уравнение без параментров как бы...\")\n"
      ]
    }
  ]
}