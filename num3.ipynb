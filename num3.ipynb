{
  "nbformat": 4,
  "nbformat_minor": 0,
  "metadata": {
    "colab": {
      "provenance": [],
      "authorship_tag": "ABX9TyP0/L5r8IIegmhVc6PkCWbw",
      "include_colab_link": true
    },
    "kernelspec": {
      "name": "python3",
      "display_name": "Python 3"
    },
    "language_info": {
      "name": "python"
    }
  },
  "cells": [
    {
      "cell_type": "markdown",
      "metadata": {
        "id": "view-in-github",
        "colab_type": "text"
      },
      "source": [
        "<a href=\"https://colab.research.google.com/github/TatarinovaEM758/object-orientedProgramming/blob/main/num3.ipynb\" target=\"_parent\"><img src=\"https://colab.research.google.com/assets/colab-badge.svg\" alt=\"Open In Colab\"/></a>"
      ]
    },
    {
      "cell_type": "markdown",
      "source": [
        "Вариант №18\n",
        "\n",
        "\n",
        "Описать класс, представляющий квадратное уравнение вида ах2\n",
        " +bх + с = 0.\n",
        " \n",
        "  Описать метод, вычисляющий решение этого уравнения и выбрасывающий\n",
        "исключение в случае отсутствия корней. Описать свойства для получения\n",
        "состояния объекта.\n",
        "\n",
        "Написать программу, демонстрирующую все разработанные элементы\n",
        "класса. \n"
      ],
      "metadata": {
        "id": "wQvL1qjKsQCJ"
      }
    },
    {
      "cell_type": "code",
      "source": [
        "class Equation:\n",
        "  def __init__(self, a, b, c):\n",
        "    self.a = a\n",
        "    self.b = b\n",
        "    self.c = c\n",
        "\n",
        "  def decision(self):\n",
        "    if self.a == 0 and self.b == 0 and self.c == 0:\n",
        "      print(\" Х - любое число\")\n",
        "    elif self.a == 0 and self.b == 0 and self.c != 0:\n",
        "      raise ValueError\n",
        "    elif self.a == 0 and self.b != 0 and self.c != 0:\n",
        "      print(\"Это линейное уранение!\")\n",
        "      x = (-self.c) / self.b\n",
        "      return x\n",
        "    elif self.a == 0 and self.b != 0 and self.c == 0:\n",
        "      return 0\n",
        "    elif self.a != 0 and self.b == 0 and self.c != 0:\n",
        "      if -self.c / self.a > 0:\n",
        "        x = ((-self.c) / self.a) ** 0.5\n",
        "        return x\n",
        "      else:\n",
        "        raise ValueError\n",
        "    elif self.a != 0 and self.b != 0 and self.c == 0:\n",
        "      x1 = 0\n",
        "      x2 = (-self.b) / self.a\n",
        "      return x1, x2\n",
        "    elif self.a != 0 and self.b != 0 and self.c != 0:\n",
        "      disc = self.b ** 2 - 4 * self.a * self.c\n",
        "      print(\"Дискриминант = \", disc)\n",
        "      if disc > 0:\n",
        "        x1 = (-b + disc ** 0.5) / (2 * a)\n",
        "        x2 = (-b - disc ** 0.5) / (2 * a)\n",
        "        return print(\"x1 = {}, x2 = {}\".format(x1, x2))\n",
        "      elif disc == 0:\n",
        "        x = -b / (2 * a)\n",
        "        return print(\"x = \", x)\n",
        "      else:\n",
        "        raise ValueError"
      ],
      "metadata": {
        "id": "k4YK_C5FsPzX"
      },
      "execution_count": 21,
      "outputs": []
    },
    {
      "cell_type": "code",
      "execution_count": 24,
      "metadata": {
        "colab": {
          "base_uri": "https://localhost:8080/"
        },
        "id": "zJV2KfhZsOqf",
        "outputId": "cf790872-1614-4bc5-ca26-3499d46fb33a"
      },
      "outputs": [
        {
          "output_type": "stream",
          "name": "stdout",
          "text": [
            "Давайте решим квадратное уравнение вида : ax2 + bx + c = 0\n",
            "Для этого вам нужно ввести значения a, b и c :\n",
            "Введите значение а = 0\n",
            "Введите значение b = 0\n",
            "Введите значение c = 0\n",
            "0*x2 + 0*x + 0 = 0\n",
            " Х - любое число\n"
          ]
        }
      ],
      "source": [
        "try:\n",
        "  print(\"Давайте решим квадратное уравнение вида : ax2 + bx + c = 0\")\n",
        "  print(\"Для этого вам нужно ввести значения a, b и c :\")\n",
        "  a = int(input(\"Введите значение а = \"))\n",
        "  b = int(input(\"Введите значение b = \"))\n",
        "  c = int(input(\"Введите значение c = \"))\n",
        "  print(\"{}*x2 + {}*x + {} = 0\".format(a, b, c))\n",
        "  Dec = Equation(a, b, c)\n",
        "  Dec.decision()\n",
        "except ValueError:\n",
        "  print(\"Это уравнение не имеет корней\")\n",
        "except TypeError:\n",
        "  print(\"Введите целые значения! Это же уравнение без параметров как бы...\")\n"
      ]
    }
  ]
}