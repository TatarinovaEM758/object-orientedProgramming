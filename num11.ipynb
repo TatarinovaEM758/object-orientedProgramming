{
  "nbformat": 4,
  "nbformat_minor": 0,
  "metadata": {
    "colab": {
      "provenance": [],
      "authorship_tag": "ABX9TyNwphVFH649TCw+NPAF7ruN",
      "include_colab_link": true
    },
    "kernelspec": {
      "name": "python3",
      "display_name": "Python 3"
    },
    "language_info": {
      "name": "python"
    }
  },
  "cells": [
    {
      "cell_type": "markdown",
      "metadata": {
        "id": "view-in-github",
        "colab_type": "text"
      },
      "source": [
        "<a href=\"https://colab.research.google.com/github/TatarinovaEM758/object-orientedProgramming/blob/main/num11.ipynb\" target=\"_parent\"><img src=\"https://colab.research.google.com/assets/colab-badge.svg\" alt=\"Open In Colab\"/></a>"
      ]
    },
    {
      "cell_type": "code",
      "execution_count": 14,
      "metadata": {
        "colab": {
          "base_uri": "https://localhost:8080/"
        },
        "id": "ScSqZereqqDq",
        "outputId": "29e8c064-678a-472a-e734-10565e1b64c4"
      },
      "outputs": [
        {
          "output_type": "stream",
          "name": "stdout",
          "text": [
            "Dividing: 4.0\n",
            "Mod: 0\n",
            "Process deleted\n"
          ]
        }
      ],
      "source": [
        "class A:\n",
        "  __a = float()\n",
        "  __b = float()\n",
        "  def __init__(self, __a, __b):\n",
        "    self.a = __a\n",
        "    self.b = __b\n",
        "\n",
        "  def  moding (self):\n",
        "    c = self.a % self.b\n",
        "    return c\n",
        "  \n",
        "  def divide(self):\n",
        "\n",
        "    c = self.a / self.b\n",
        "    return c\n",
        "\n",
        "  def __del__ (self):\n",
        "    print('Process deleted')\n",
        "\n",
        "\n",
        "c1 = A(20, 5)\n",
        "print(f'Dividing: {c1.divide()}')\n",
        "print(f'Mod: {c1.moding()}')"
      ]
    },
    {
      "cell_type": "code",
      "source": [
        "class Program():\n",
        "  \n",
        "    def __init__(self):\n",
        "        c2 = A(20, 5)\n",
        "        print(c2.divide())\n",
        "        print(c2.moding())\n",
        "\n",
        "if __name__ == \"__main__\":\n",
        "    f1 = Program()\n",
        "    del f1"
      ],
      "metadata": {
        "colab": {
          "base_uri": "https://localhost:8080/"
        },
        "id": "zeQHFFLs2ziw",
        "outputId": "ba273aa5-4a7c-4187-c2c1-f55b240420d1"
      },
      "execution_count": 17,
      "outputs": [
        {
          "output_type": "stream",
          "name": "stdout",
          "text": [
            "4.0\n",
            "0\n",
            "Process deleted\n"
          ]
        }
      ]
    }
  ]
}