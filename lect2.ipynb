{
  "nbformat": 4,
  "nbformat_minor": 0,
  "metadata": {
    "colab": {
      "provenance": [],
      "authorship_tag": "ABX9TyP1F6arh83LWzh8Iz0I2JAB",
      "include_colab_link": true
    },
    "kernelspec": {
      "name": "python3",
      "display_name": "Python 3"
    },
    "language_info": {
      "name": "python"
    }
  },
  "cells": [
    {
      "cell_type": "markdown",
      "metadata": {
        "id": "view-in-github",
        "colab_type": "text"
      },
      "source": [
        "<a href=\"https://colab.research.google.com/github/TatarinovaEM758/object-orientedProgramming/blob/main/lect2.ipynb\" target=\"_parent\"><img src=\"https://colab.research.google.com/assets/colab-badge.svg\" alt=\"Open In Colab\"/></a>"
      ]
    },
    {
      "cell_type": "markdown",
      "source": [
        "Парадигма наследования позволяет создавать сложные системы классов,\n",
        "избежать дублирования кода, упростить поддержку программ. При\n",
        "наследовании обычно говорят о классах-родителях и классах-потомках. У\n",
        "одного родительского класса может быте несколько классов-потомков,\n",
        "расширяющих функционал родительского класса.\n",
        "Рассмотрим понятие наследования на примере, в котором необходимо\n",
        "создать программу, содержащую описание классов Работник (Employee) и\n",
        "Клиент (Customer). Эти классы имеют общие свойства, присущие всем людям,\n",
        "поэтому создадим базовый (родительский) класс Человек (Person) и наследуем\n",
        "от него дочерние классы Employee и Customer "
      ],
      "metadata": {
        "id": "qX1J6nRV4zgh"
      }
    },
    {
      "cell_type": "code",
      "execution_count": 2,
      "metadata": {
        "colab": {
          "base_uri": "https://localhost:8080/"
        },
        "id": "KYrUxACl1Y1V",
        "outputId": "a5be3e1b-8a01-47c0-c65c-c2ef61413396"
      },
      "outputs": [
        {
          "output_type": "stream",
          "name": "stdout",
          "text": [
            "Петр говорит\n",
            "Человек без имени говорит\n",
            "Елена говорит\n"
          ]
        }
      ],
      "source": [
        "class Person:\n",
        "  def __init__(self, nаmе='Человек без имени'):\n",
        "    self.nаmе = nаmе\n",
        "    self.age = 0\n",
        "  def say(self):\n",
        "    print(\"{0} говорит\".format(self.nаmе))\n",
        "  #  Person - родительский класс\n",
        "\n",
        "class Employee(Person):\n",
        "  def set_job(self, job_title='Безработный'):\n",
        "    self.job_title = job_title\n",
        "  def get_job(self):\n",
        "    print(self.job_title)\n",
        "\n",
        "class Customer(Person):\n",
        "  def set_email(self, email='Heт почты'):\n",
        "    self.email = email\n",
        "  def get_email(self):\n",
        "    print(self.email)\n",
        "\n",
        "# создаем человека с именем 'Петр':\n",
        "person = Person('Петр')\n",
        "\n",
        "# просим человека что-нибудь сказать:\n",
        "person.say()\n",
        "\n",
        "# создаем работника без имени:\n",
        "emp = Employee()\n",
        "emp.say() # метод наследовался из класса Person. хотим, чтобы в момент создания Employee заполнялась должность\n",
        "cust = Customer('Елена')\n",
        "cust.say()\n",
        "# метод наследовался из класса Person. хотим, чтобы в момент создания Customer заполнялась почта"
      ]
    },
    {
      "cell_type": "markdown",
      "source": [
        "В примере по умолчанию наследуется конструктор базового класса Person,\n",
        "но в нем не определяются атрибуты дочерних классов. Исправим ситуацию\n",
        "путем переопределения конструктора в дочерних классах на представленном\n",
        "ниже примере."
      ],
      "metadata": {
        "id": "e_dUh4Yh44fd"
      }
    },
    {
      "cell_type": "code",
      "source": [
        "class Person:\n",
        "  def __init__(self, name='Человек без имени'):\n",
        "    self.name = name\n",
        "    self.age = 0\n",
        "\n",
        "  def say(self):\n",
        "    print(\"{0} говорит\".format(self.name))\n",
        "\n",
        "class Employee(Person):\n",
        "# переопределяем конструктор:\n",
        "  def __init__(self, name):\n",
        "# вызываем конструктор базового класса:\n",
        "    Person.__init__(self)\n",
        "# определяем атрибут по умолчанию:\n",
        "    self.job_title = 'Безработный'\n",
        "  def set_job(self, job_title='Безработный'):\n",
        "    self.job_title = job_title\n",
        "  def get_job(self):\n",
        "    print(self.name, self.job_title)\n",
        "\n",
        "class Customer(Person):\n",
        "  def __init__(self, name):\n",
        "    Person.__init__(self)\n",
        "    self.email = 'Нет почты'\n",
        "  def set_email(self, email='Нет почты'):\n",
        "    self.email = email\n",
        "  def get_email(self):\n",
        "    print(self.name, self.email) "
      ],
      "metadata": {
        "id": "B85iI24W2ycJ"
      },
      "execution_count": 5,
      "outputs": []
    },
    {
      "cell_type": "markdown",
      "source": [
        "Если язык программирования поддерживает множественное наследование,\n",
        "то у одного класса-потомка, может быть, несколько родительских классов. Язык\n",
        "Python поддерживает множественное наследование. Поля родительского класса\n",
        "при наследовании переходят к классу-потомку. Кроме того, поля родительского\n",
        "класса могут переопределены у потомка."
      ],
      "metadata": {
        "id": "9LYyssP93RnJ"
      }
    },
    {
      "cell_type": "code",
      "source": [
        "class A:\n",
        "  def some_function(self):\n",
        "    print(\"First function\")\n",
        "  def other_function(self):\n",
        "   print(\"Second function\")\n",
        "\n",
        "class B:\n",
        "  def method_in_B(self):\n",
        "    print(\"Third function\")\n",
        "\n",
        "class C(A):\n",
        "  def other_function(self):\n",
        "    print(\"Replaced function\")\n",
        "\n",
        "class D(B, C):\n",
        "  pass\n",
        "\n",
        "# Посмотрим все атрибуты класса, не являющиеся служебными\n",
        "print(\"A:\\t\", list(filter(lambda x: \"__\" not in x, dir(A))))\n",
        "print(\"B:\\t\", list(filter(lambda x: \"__\" not in x, dir(B))))\n",
        "print(\"C(A):\\t\", list(filter(lambda x: \"__\" not in x,\n",
        "dir(C))))\n",
        "print(\"D(B,C):\\t\", list(filter(lambda x: \"__\" not in x,\n",
        "dir(D))))\n",
        "print()\n",
        "\n",
        "# Посмотрим на реализацию функции в D\n",
        "d = D()\n",
        "d.method_in_B()\n",
        "d.some_function()\n",
        "d.other_function()\n",
        "print() \n"
      ],
      "metadata": {
        "colab": {
          "base_uri": "https://localhost:8080/"
        },
        "id": "HYJf8dsP3S1K",
        "outputId": "ce1baa3b-efcb-45a8-9934-637acdc71612"
      },
      "execution_count": 6,
      "outputs": [
        {
          "output_type": "stream",
          "name": "stdout",
          "text": [
            "A:\t ['other_function', 'some_function']\n",
            "B:\t ['method_in_B']\n",
            "C(A):\t ['other_function', 'some_function']\n",
            "D(B,C):\t ['method_in_B', 'other_function', 'some_function']\n",
            "\n",
            "Third function\n",
            "First function\n",
            "Replaced function\n",
            "\n"
          ]
        }
      ]
    },
    {
      "cell_type": "markdown",
      "source": [
        "Наследование – одна из самых важных и мощных парадигм ООП. При\n",
        "наследовании мы оперируем такими понятиями, как родительский класс и класс\n",
        "потомок. Класс-потомок наследует методы и переменные, определенные в\n",
        "родительском классе."
      ],
      "metadata": {
        "id": "on5NxYZe3qVG"
      }
    },
    {
      "cell_type": "code",
      "source": [
        "class A:\n",
        "  var_A = 1\n",
        "  def method_A(self):\n",
        "    print(\"A\")\n",
        "\n",
        "class B(A):\n",
        "  var_B = 2\n",
        "  def method_B(self):\n",
        "    print(\"B\")\n",
        "\n",
        "class C(B):\n",
        "  var_C = 3\n",
        "  def method_C(self):\n",
        "    print(\"C\")\n",
        "\n",
        "print(\"A:\\t\", list(filter(lambda x: \"__\" not in x,\n",
        "dir(A))))\n",
        "print(\"B(A):\\t\", list(filter(lambda x: \"__\" not in x,\n",
        "dir(B))))\n",
        "print(\"C(B):\\t\", list(filter(lambda x: \"__\" not in x,\n",
        "dir(C))))\n",
        "print()"
      ],
      "metadata": {
        "colab": {
          "base_uri": "https://localhost:8080/"
        },
        "id": "GVKlsSDE3rMB",
        "outputId": "4ef6d0e6-c8eb-4462-dbd7-03f4a2215555"
      },
      "execution_count": 10,
      "outputs": [
        {
          "output_type": "stream",
          "name": "stdout",
          "text": [
            "A:\t ['method_A', 'var_A']\n",
            "B(A):\t ['method_A', 'method_B', 'var_A', 'var_B']\n",
            "C(B):\t ['method_A', 'method_B', 'method_C', 'var_A', 'var_B', 'var_C']\n",
            "\n"
          ]
        }
      ]
    },
    {
      "cell_type": "markdown",
      "source": [
        "При наследовании класс-потомок может переопределять методы и\n",
        "переменные родительского класса: "
      ],
      "metadata": {
        "id": "OGKclFES4Lvw"
      }
    },
    {
      "cell_type": "code",
      "source": [
        "class A:\n",
        "  value = 13\n",
        "  def some_method(self):\n",
        "    print(f\"Method in A, value = {self.value}\")\n",
        "\n",
        "class B(A):\n",
        "  def some_method(self):\n",
        "    print(f\"Method in B, value = {self.value}\")\n",
        "\n",
        "class C(B):\n",
        "  value = 6\n",
        "  def some_method(self):\n",
        "    print(f\"Method in C, value = {self.value}\")\n",
        "\n",
        "A().some_method()\n",
        "B().some_method()\n",
        "C().some_method()\n",
        "print() \n"
      ],
      "metadata": {
        "colab": {
          "base_uri": "https://localhost:8080/"
        },
        "id": "H4lNFNML4Dz3",
        "outputId": "2cbad3e2-d5cc-482a-a183-e8e0b988b0c9"
      },
      "execution_count": 11,
      "outputs": [
        {
          "output_type": "stream",
          "name": "stdout",
          "text": [
            "Method in A, value = 13\n",
            "Method in B, value = 13\n",
            "Method in C, value = 6\n",
            "\n"
          ]
        }
      ]
    },
    {
      "cell_type": "markdown",
      "source": [
        "Множественное наследование позволяет получить доступ к атрибутам\n",
        "нескольких родительских классов. На примере ниже это продемонстрируем. \n"
      ],
      "metadata": {
        "id": "nn5nXnFr4fRo"
      }
    },
    {
      "cell_type": "code",
      "source": [
        "class A:\n",
        "  def some_function(self):\n",
        "    print(\"First function\")\n",
        "  def other_function(self):\n",
        "    print(\"Second function\")\n",
        "\n",
        "class B:\n",
        "  def method_in_B(self):\n",
        "    print(\"Third function\")\n",
        "\n",
        "class С(A, B):\n",
        "  pass\n",
        "  \n",
        "# Посмотрим все атрибуты класса, не являющиеся служебными\n",
        "print(\"A:\\t\", list(filter(lambda x: \"__\" not in x,\n",
        "dir(A))))\n",
        "print(\"B:\\t\", list(filter(lambda x: \"__\" not in x,\n",
        "dir(B))))\n",
        "print(\"С(A,B):\\t\", list(filter(lambda x: \"__\" not in x,\n",
        "dir(С))))\n",
        "print() \n"
      ],
      "metadata": {
        "colab": {
          "base_uri": "https://localhost:8080/"
        },
        "id": "e8vPlRbj4gBj",
        "outputId": "0122bacf-2846-4c37-95cd-0468dfd38054"
      },
      "execution_count": 12,
      "outputs": [
        {
          "output_type": "stream",
          "name": "stdout",
          "text": [
            "A:\t ['other_function', 'some_function']\n",
            "B:\t ['method_in_B']\n",
            "С(A,B):\t ['method_in_B', 'other_function', 'some_function']\n",
            "\n"
          ]
        }
      ]
    }
  ]
}