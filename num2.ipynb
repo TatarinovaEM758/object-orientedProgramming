{
  "cells": [
    {
      "cell_type": "markdown",
      "metadata": {
        "id": "view-in-github",
        "colab_type": "text"
      },
      "source": [
        "<a href=\"https://colab.research.google.com/github/TatarinovaEM758/object-orientedProgramming/blob/main/num2.ipynb\" target=\"_parent\"><img src=\"https://colab.research.google.com/assets/colab-badge.svg\" alt=\"Open In Colab\"/></a>"
      ]
    },
    {
      "cell_type": "markdown",
      "metadata": {
        "id": "fAtVx9O5b1Cy"
      },
      "source": [
        "## Вариант 18"
      ]
    },
    {
      "cell_type": "markdown",
      "metadata": {
        "id": "VulKDoMNb1vn"
      },
      "source": [
        "1. В рамках приложения разработать класс В – наследник класса А (задание\n",
        "2) с полем d и свойством с2. Свойство с2 – результат вычисления\n",
        "выражения над полями a, b, d. В теле свойства использовать управляющий\n",
        "оператор (см. вариант в таблице 2.2). У класса А создать конструктор,\n",
        "инициализирующий его поля. Для класса В определить 2 конструктора:\n",
        "один – наследуется от конструктора класса А, второй – собственный. В\n",
        "теле программы создать объекты классов А и В, продемонстрировав\n",
        "работу всех конструкторов. Вывести значения свойства на экран"
      ]
    },
    {
      "cell_type": "code",
      "execution_count": null,
      "metadata": {
        "id": "p975Oq4QbtmR"
      },
      "outputs": [],
      "source": [
        "\n",
        "class A():\n",
        "\n",
        "  def __init__(self, a, b):\n",
        "    self.a = a\n",
        "    self.b = b\n",
        "    \n",
        "  def divide(self, a=1, b=1):\n",
        "    c = self.a / self.b\n",
        "    return c\n",
        "    \n",
        "  def reduce(self, a=1, b=1):\n",
        "    c = self.a - self.b\n",
        "    return c\n",
        "\n",
        "class B(A):\n",
        "    def __init__(self, a, b, c):\n",
        "        self.c = c\n",
        "        self.b = b\n",
        "        self.a = a\n",
        "        \n",
        "    def c2(self):\n",
        "        if self.c < self.a:\n",
        "            res = self.divide(self.c, self.a)\n",
        "        elif self.c > self.a:\n",
        "            res = self.reduce(self.c, self.a)\n",
        "        elif self.c == self.a:\n",
        "            res = self.c\n",
        "        elif self.c < self.b:\n",
        "            res = self.divide(self.c, self.b)\n",
        "        elif self.c > self.b:\n",
        "            res = self.reduce(self.c, self.b)\n",
        "        elif self.c == self.b:\n",
        "            res = self.b\n",
        "        return res\n"
      ]
    },
    {
      "cell_type": "code",
      "source": [
        "f = A(2, 3)\n",
        "g = B(3, 4, 5)\n",
        "\n",
        "print('a = {}, b = {}, c = {}'.format(g.a, g.b, g.c))\n",
        "\n",
        "print(f.a) \n",
        "print(f.b)\n",
        "\n",
        "print(g.a)\n",
        "print(g.b)\n",
        "print(g.c)\n",
        "\n",
        "print(g.c2())\n",
        "g.a = 8\n",
        "print(g.c2())\n",
        "\n",
        "g.b = 1\n",
        "print(g.c2())\n"
      ],
      "metadata": {
        "colab": {
          "base_uri": "https://localhost:8080/"
        },
        "id": "VqL4UWyUsfm1",
        "outputId": "f65bb5c8-db3c-47cd-e9ef-df98116ef71d"
      },
      "execution_count": null,
      "outputs": [
        {
          "output_type": "stream",
          "name": "stdout",
          "text": [
            "a = 3, b = 4, c = 5\n",
            "2\n",
            "3\n",
            "3\n",
            "4\n",
            "5\n",
            "-1\n",
            "2.0\n",
            "8.0\n"
          ]
        }
      ]
    },
    {
      "cell_type": "markdown",
      "metadata": {
        "id": "DOCnFsICcFVA"
      },
      "source": [
        "##Задания для всех"
      ]
    },
    {
      "cell_type": "markdown",
      "metadata": {
        "id": "kkZ4crHRcH1d"
      },
      "source": [
        "1. Создайте класс «зарплата», который вычисляет сумму зарплаты в зависимости\n",
        "от тарифной ставки и числа отработанных дней. Расширьте метод начислением\n",
        "процентов в зависимости от объема продаж. "
      ]
    },
    {
      "cell_type": "code",
      "execution_count": null,
      "metadata": {
        "id": "XsF6jo-fdZ6g",
        "colab": {
          "base_uri": "https://localhost:8080/"
        },
        "outputId": "966fca02-bb98-41e9-c813-b9c6732a92d9"
      },
      "outputs": [
        {
          "output_type": "stream",
          "name": "stdout",
          "text": [
            "Введите вашу зарплату: 80000\n",
            "Введите кол-во рабочих дней: 25\n",
            "Введите количество отработанных дней: 23\n",
            "Введите ваш объем продаж: 1000020\n",
            "80960.0\n"
          ]
        }
      ],
      "source": [
        "class salary:\n",
        "  def __init__(self, salar, days, workdays, prod):\n",
        "    self.salar = salar\n",
        "    self.days = days\n",
        "    self.workdays = workdays\n",
        "    self.prod = prod\n",
        "    self.proc = 0.1\n",
        "    if self.prod > 1000000:\n",
        "      self.proc = 0.1\n",
        "    else:\n",
        "      self.pros = 0.5\n",
        "    \n",
        "\n",
        "  def itog(self):\n",
        "    res = (self.salar / self.days) * self.workdays\n",
        "    r = res + res * self.proc\n",
        "    return r\n",
        "\n",
        "\n",
        "\n",
        "try:\n",
        "  salar = int(input(\"Введите вашу зарплату: \"))\n",
        "  days = int(input(\"Введите кол-во рабочих дней: \"))\n",
        "  workdays = int(input(\"Введите количество отработанных дней: \"))\n",
        "  prod = int(input(\"Введите ваш объем продаж: \"))\n",
        "\n",
        "  a = salary(salar, days, workdays, prod)\n",
        "  print(a.itog())\n",
        "except ValueError:\n",
        "  print(\"Вводить нужно числами, а не словами!\")"
      ]
    },
    {
      "cell_type": "markdown",
      "metadata": {
        "id": "98X0v_J3cI9B"
      },
      "source": [
        "2. Переопределите метод начисления зарплаты: в случае, если объем продаж в\n",
        "месяц превысил 1 000 000, проценты добавляются к зарплате, в противном\n",
        "случае – вычитаются. \n"
      ]
    },
    {
      "cell_type": "code",
      "source": [
        "class salary:\n",
        "  def __init__(self, salar, days, workdays, prod):\n",
        "    self.salar = salar\n",
        "    self.days = days\n",
        "    self.workdays = workdays\n",
        "    self.prod = prod\n",
        "    self.proc = 0.1\n",
        "    if self.prod > 1000000:\n",
        "      self.proc = 0.1\n",
        "    else:\n",
        "      self.pros = 0.5\n",
        "    \n",
        "\n",
        "  def itog(self):\n",
        "    res = (self.salar / self.days) * self.workdays\n",
        "    if self.prod > 1000000:\n",
        "      r = res + res * self.proc\n",
        "    else:\n",
        "      r = res - res * self.proc\n",
        "    return r\n",
        "\n",
        "\n",
        "\n",
        "try:\n",
        "  salar = int(input(\"Введите вашу зарплату: \"))\n",
        "  days = int(input(\"Введите кол-во рабочих дней: \"))\n",
        "  workdays = int(input(\"Введите количество отработанных дней: \"))\n",
        "  prod = int(input(\"Введите ваш объем продаж: \"))\n",
        "\n",
        "  a = salary(salar, days, workdays, prod)\n",
        "  print(a.itog())\n",
        "except ValueError:\n",
        "  print(\"Вводить нужно числами, а не словами!\")"
      ],
      "metadata": {
        "colab": {
          "base_uri": "https://localhost:8080/"
        },
        "id": "hvYA-OgpABjW",
        "outputId": "810a91ff-e0e7-4d72-c45f-3657cc75dfe5"
      },
      "execution_count": null,
      "outputs": [
        {
          "output_type": "stream",
          "name": "stdout",
          "text": [
            "Введите вашу зарплату: 80000\n",
            "Введите кол-во рабочих дней: 25\n",
            "Введите количество отработанных дней: 23\n",
            "Введите ваш объем продаж: 1200000\n",
            "80960.0\n"
          ]
        }
      ]
    },
    {
      "cell_type": "markdown",
      "metadata": {
        "id": "Zuyd1qqFcRVv"
      },
      "source": [
        "3. Создайте для класса «сотрудники» абстрактный метод начисления зарплаты.\n",
        "Создайте два класса-наследника: сотрудник отдела продаж и сотрудник склада.\n",
        "Для первого класса начисление происходит аналогично заданию 1, а для второго\n",
        "–в зависимости от количества отработанных дней. "
      ]
    },
    {
      "cell_type": "code",
      "source": [
        "class salary_prod:\n",
        "  def __init__(self):\n",
        "    self.salar = int(input(\"Введите вашу зарплату: \"))\n",
        "    self.days = int(input(\"Введите кол-во рабочих дней: \"))\n",
        "    self.workdays = int(input(\"Введите количество отработанных дней: \"))\n",
        "    self.prod = int(input(\"Введите ваш объем продаж: \"))\n",
        "    self.proc = 0.1\n",
        "    if self.prod > 1000000:\n",
        "      self.proc = 0.1\n",
        "    else:\n",
        "      self.pros = 0.5\n",
        "    \n",
        "  def itog_prod(self):\n",
        "    res = (self.salar / self.days) * self.workdays\n",
        "    r = res + res * self.proc\n",
        "    return r\n",
        "\n",
        "class salary_cklad:\n",
        "  def __init__(self):\n",
        "    self.salar = int(input(\"Введите вашу зарплату: \"))\n",
        "    self.days = int(input(\"Введите кол-во рабочих дней: \"))\n",
        "    self.workdays = int(input(\"Введите количество отработанных дней: \"))\n",
        "\n",
        "  def itog_cklad(self):\n",
        "    res = (self.salar / self.days) * self.workdays\n",
        "    return res\n",
        "\n",
        "class employee(salary_prod, salary_cklad):\n",
        "  def emp(self):\n",
        "    self.name = input(\"Введите имя: \")\n",
        "\n",
        "\n",
        "\n",
        "try:\n",
        "  a = employee()\n",
        "  print(a.itog_prod())\n",
        "  print(a.itog_cklad())\n",
        "except ValueError:\n",
        "  print(\"Вводить нужно числами, а не словами!\")"
      ],
      "metadata": {
        "colab": {
          "base_uri": "https://localhost:8080/"
        },
        "id": "9kDgTI6YED2S",
        "outputId": "8586f5fe-6af6-4506-dc68-86db565286e6"
      },
      "execution_count": null,
      "outputs": [
        {
          "output_type": "stream",
          "name": "stdout",
          "text": [
            "Введите вашу зарплату: 75000\n",
            "Введите кол-во рабочих дней: 25\n",
            "Введите количество отработанных дней: 23\n",
            "Введите ваш объем продаж: 1000000\n",
            "75900.0\n",
            "69000.0\n"
          ]
        }
      ]
    },
    {
      "cell_type": "markdown",
      "metadata": {
        "id": "_V44jKhOcaYE"
      },
      "source": [
        "4. Решите предыдущую задачу, используя декоратор Sabstractmethod."
      ]
    },
    {
      "cell_type": "code",
      "execution_count": null,
      "metadata": {
        "id": "_5cCsw8wZNUC",
        "colab": {
          "base_uri": "https://localhost:8080/"
        },
        "outputId": "4c6555d2-074a-4618-89ce-bef755dc9d06"
      },
      "outputs": [
        {
          "output_type": "stream",
          "name": "stdout",
          "text": [
            "Введите вашу зарплату: 75000\n",
            "Введите кол-во рабочих дней: 25\n",
            "Введите количество отработанных дней: 23\n",
            "Введите ваш объем продаж: 122000\n",
            "75900.0\n",
            "69000.0\n"
          ]
        }
      ],
      "source": [
        "from abc import ABC, abstractmethod\n",
        "\n",
        "class salary_prod:\n",
        "  def __init__(self):\n",
        "    self.salar = int(input(\"Введите вашу зарплату: \"))\n",
        "    self.days = int(input(\"Введите кол-во рабочих дней: \"))\n",
        "    self.workdays = int(input(\"Введите количество отработанных дней: \"))\n",
        "    self.prod = int(input(\"Введите ваш объем продаж: \"))\n",
        "    self.proc = 0.1\n",
        "    if self.prod > 1000000:\n",
        "      self.proc = 0.1\n",
        "    else:\n",
        "      self.pros = 0.5\n",
        "    \n",
        "  @abstractmethod\n",
        "  def itog_prod(self):\n",
        "    res = (self.salar / self.days) * self.workdays\n",
        "    r = res + res * self.proc\n",
        "    return r\n",
        "\n",
        "class salary_cklad:\n",
        "  def __init__(self):\n",
        "    self.salar = int(input(\"Введите вашу зарплату: \"))\n",
        "    self.days = int(input(\"Введите кол-во рабочих дней: \"))\n",
        "    self.workdays = int(input(\"Введите количество отработанных дней: \"))\n",
        "\n",
        "  def itog_cklad(self):\n",
        "    res = (self.salar / self.days) * self.workdays\n",
        "    return res\n",
        "\n",
        "class employee(salary_prod, salary_cklad):\n",
        "  def emp(self):\n",
        "    self.name = input(\"Введите имя: \")\n",
        "\n",
        "\n",
        "\n",
        "try:\n",
        "  a = employee()\n",
        "  print(a.itog_prod())\n",
        "  print(a.itog_cklad())\n",
        "except ValueError:\n",
        "  print(\"Вводить нужно числами, а не словами!\")"
      ]
    },
    {
      "cell_type": "markdown",
      "metadata": {
        "id": "mCDjovfScd2J"
      },
      "source": [
        "5. Имеется класс «мебель». Создайте класс «корпусная мебель», «мягкая мебель»\n",
        "и «кухонная мебель». Определите атрибуты и методы родительского класса и\n",
        "классов-наследников. \n"
      ]
    },
    {
      "cell_type": "code",
      "source": [
        "class Furniture:\n",
        "  def __init__(self, colour, material):\n",
        "    self.colour = colour\n",
        "    self.mat = material\n",
        "\n",
        "class corp_furn(Furniture):\n",
        "  def __init__(self, colour, material, typ):\n",
        "    Furniture.__init__(self, colour, material)\n",
        "    self.typ = typ\n",
        "  \n",
        "class soft_furn(Furniture):\n",
        "  def __init__(self, colour, material, typ):\n",
        "    Furniture.__init__(self, colour, material)\n",
        "    self.typ = typ\n",
        "  \n",
        "class kitch_furn(Furniture):\n",
        "  def __init__(self, colour, material, typ):\n",
        "    Furniture.__init__(self, colour, material)\n",
        "    self.typ = typ\n"
      ],
      "metadata": {
        "id": "j8F9zpTiiGTy"
      },
      "execution_count": null,
      "outputs": []
    },
    {
      "cell_type": "markdown",
      "metadata": {
        "id": "Q2fkkIzBchIf"
      },
      "source": [
        "6. Создайте приложение, в котором необходимо разработать базовый класс man.\n",
        "Объекты этого класса содержат справочную информацию о конкретном\n",
        "человеке (фамилию, инициалы, телефон, адрес, возраст). Создайте два\n",
        "производных от него класса: manager и secretary. Объекты класса manager\n",
        "дополнительно включают номер отдела и количество подчиненных. Объекты\n",
        "класса manager дополнительно включают номер отдела и количество\n",
        "подчиненных. Объекты класса secretary дополнительно включают фамилию\n",
        "начальника. Данные о менеджерах и секретарях введите с клавиатуры и выведите\n",
        "на экран дисплея"
      ]
    },
    {
      "cell_type": "code",
      "execution_count": null,
      "metadata": {
        "colab": {
          "base_uri": "https://localhost:8080/"
        },
        "id": "7xOC5pHvCFxR",
        "outputId": "78698a4e-2a04-4621-9ca6-72eddd0727e6"
      },
      "outputs": [
        {
          "name": "stdout",
          "output_type": "stream",
          "text": [
            "Ваш работник менеджер(1) или секретарь(2)? 1\n",
            "Введите фамилию: кутакова\n",
            "Введите инициалы: в а\n",
            "Введите номер телефона: 9876543322\n",
            "Введите домашний адрес: ул коминтерна\n",
            "Введите возраст: 18\n",
            "Введите номер отдела: 12345678\n",
            "Введите количество подчиненных: 9\n",
            "Ваш работник менеджер(1) или секретарь(2)? 2\n",
            "Введите фамилию: черенков\n",
            "Введите инициалы: и р \n",
            "Введите номер телефона: 9878765457\n",
            "Введите домашний адрес: ул шереметьевская\n",
            "Введите возраст: 18\n",
            " Введите фамилию начальника: Фролов Ю В\n",
            "Ваш работник менеджер(1) или секретарь(2)? 0\n"
          ]
        }
      ],
      "source": [
        "class man():\n",
        "  def __init__(self, surname, initsial, phone, home, age):\n",
        "    self.surname = surname\n",
        "    self.initsial = initsial\n",
        "    self.phone = phone\n",
        "    self.home = home \n",
        "    self.age = age\n",
        "  \n",
        "class manager(man):\n",
        "  def __init__(self,  surname, initsial, phone, home, age, num, kol):\n",
        "    man.__init__(self, surname, initsial, phone, home, age)\n",
        "    self.numotd = num\n",
        "    self.kol = kol\n",
        "\n",
        "class secretary(man):\n",
        "  def __init__(self, surname, initsial, phone, home, age, chaif):\n",
        "    man.__init__(self, surname, initsial, phone, home, age)\n",
        "    self.chaif = chaif\n",
        "\n",
        "\n",
        "while True:\n",
        "  a = int(input(\"Ваш работник менеджер(1) или секретарь(2)? \"))\n",
        "  if a == 1 or a == 2:\n",
        "    surname = input(\"Введите фамилию: \")\n",
        "    initsial = input(\"Введите инициалы: \")\n",
        "    phone = input(\"Введите номер телефона: \")\n",
        "    home = input(\"Введите домашний адрес: \")\n",
        "    age = input(\"Введите возраст: \")\n",
        "  \n",
        "    if a == 1:\n",
        "      num = input(\"Введите номер отдела: \")\n",
        "      kol = input(\"Введите количество подчиненных: \")\n",
        "      Person = manager(surname, initsial, phone, home, age, num, kol)\n",
        "    elif a == 2:\n",
        "      chaif = input(\" Введите фамилию начальника: \")\n",
        "      Person = secretary(surname, initsial, phone, home, age, chaif)\n",
        "  else:\n",
        "    break"
      ]
    },
    {
      "cell_type": "markdown",
      "metadata": {
        "id": "FVBCDWTBclTv"
      },
      "source": [
        "7. Разработайте приложение, в котором опишите базовый класс building. Он\n",
        "хранит этаж, число комнат в квартире, общую площадь квартиры. Три\n",
        "производных класса house-k, house-p, house-m наследуют класс building. Каждый\n",
        "из них хранит надбавку к цене квадратного метра площади, зависящую от\n",
        "материала дома. Производный класс office наследует производные классы housek, house-p, house-m и хранит наличие лоджии и надбавку, связанную с районом\n",
        "города. Вывести на экран стоимость конкретной квартиры."
      ]
    },
    {
      "cell_type": "markdown",
      "metadata": {
        "id": "BMdytRfHcpJp"
      },
      "source": [
        "8. В программе рассчитываются площади треугольника и прямоугольника. С\n",
        "этой целью создается абстрактный класс area, в котором сохраняются две\n",
        "размерности фигуры. В производных классах задайте вид конкретных фигур и\n",
        "возвратите их площади."
      ]
    },
    {
      "cell_type": "code",
      "execution_count": null,
      "metadata": {
        "colab": {
          "base_uri": "https://localhost:8080/"
        },
        "id": "93HhCbL5Wxqk",
        "outputId": "afbe1132-4564-4756-f32c-ef439fc5033f"
      },
      "outputs": [
        {
          "name": "stdout",
          "output_type": "stream",
          "text": [
            "10\n",
            "12\n"
          ]
        }
      ],
      "source": [
        "from abc import ABC, abstractmethod\n",
        "class Area(ABC):\n",
        "    def __init__(self, razmer1, razmer2):\n",
        "        self.razmer1 = razmer1\n",
        "        self.razmer2 = razmer2\n",
        "    @abstractmethod\n",
        "    def get_area(self):\n",
        "        pass\n",
        "\n",
        "class Triangle(Area):\n",
        "    def __init__(self, base, height):\n",
        "        super().__init__(base, height)\n",
        "    def get_area(self):\n",
        "        return round((self.razmer1 * self.razmer2) / 2)\n",
        "\n",
        "class Rectangle(Area):\n",
        "    def __init__(self, length, width):\n",
        "        super().__init__(length, width)\n",
        "    def get_area(self):\n",
        "        return self.razmer1 * self.razmer2\n",
        "\n",
        "triangle = Triangle(4, 5)\n",
        "print(triangle.get_area())\n",
        "\n",
        "rectangle = Rectangle(4, 3)\n",
        "print(rectangle.get_area())"
      ]
    }
  ],
  "metadata": {
    "colab": {
      "provenance": [],
      "authorship_tag": "ABX9TyP/qnNhMFgoZeo/Qv840FM8",
      "include_colab_link": true
    },
    "kernelspec": {
      "display_name": "Python 3",
      "name": "python3"
    },
    "language_info": {
      "name": "python"
    }
  },
  "nbformat": 4,
  "nbformat_minor": 0
}